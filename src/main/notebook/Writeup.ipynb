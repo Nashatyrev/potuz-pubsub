{
 "cells": [
  {
   "metadata": {},
   "cell_type": "markdown",
   "source": [
    "### Simulation model\n",
    "\n",
    "- A message is split onto `numberOfChunks` _chunks_ of equal size\n",
    "- Simulation is organized by _rounds_. \n",
    "- Every node has a _receive FIFO buffer_\n",
    "- Each round every node may enqueue a single chunk to any other node receive buffer.\n",
    "    - The set of receiving nodes could be limited when simulating _meshes_ \n",
    "        - The meshes are randomly generated and are static across all rounds   \n",
    "- Each round every node pops and processes a single message from its receive buffer if it's not empty\n",
    "- The above rules simulate nodes' _bandwidth_ equal to 1 chunk/round\n",
    "- To abstract from the actual bandwidth, message size and chunk count the _time_ is measured as a float value, \n",
    "    where `1.0` is the time the full message is transferred from one node to another with zero latency. \n",
    "    In other words the time `1.0` corresponds to the period of `numberOfChunks` rounds \n",
    "- The _latency_ is simulated in whole rounds (to keep the model simple). When the latency is non-zero the node \n",
    "    pops a message from receive buffer only if it was enqueued `latency` rounds ago\n",
    "- A node has no any information about the state (e.g. buffer size) of other nodes and no any global information besides the current round\n",
    "- The only 'god' property of the model is it terminates the process when all the nodes receive the complete message        \n",
    "       "
   ]
  },
  {
   "metadata": {},
   "cell_type": "markdown",
   "source": [
    "### Simulation config\n",
    "\n",
    "- `nodeCount`: total number of nodes in the network\n",
    "- `numberOfChunks`: number of chunks the message is split onto\n",
    "- `peerCount` number of nodes in a mesh  \n",
    "- `erasure` the type of erasure coding and its applicable params: \n",
    "    - `NoErasure`: the message chunks are not erasure coded, they are disseminated 'as is' (is treated as a special case of `Rs` with extension factor `1.0`)\n",
    "    - `RS`: Reed-Solomon erasure coding which has a predefined fixed number of extension chunks (in addition to `numberOfChunks` of original message chunks)\n",
    "        - `extensionFactor`: how many extension chunks are generated. Just `x2` and `x3` were tested\n",
    "                - `x1` corresponds to `NoErasure`\n",
    "        - `isDistinctMeshesPerChunk`: defines if distinct messages chunks are propagated via one or distinct meshes\n",
    "        - `chunkSelectionStrategy`: the strategy of how to select one from existing chunks to propagate at the current round  \n",
    "    - `RLNC`: RLNC erasure coding     \n",
    "- `latencyRounds`: the chunk delivery latency measured in rounds\n",
    "- `peerSelectionStrategy`: how the receiving peer is selected   "
   ]
  }
 ],
 "metadata": {
  "kernelspec": {
   "display_name": "Kotlin",
   "language": "kotlin",
   "name": "kotlin"
  },
  "language_info": {
   "name": "kotlin",
   "version": "1.9.23",
   "mimetype": "text/x-kotlin",
   "file_extension": ".kt",
   "pygments_lexer": "kotlin",
   "codemirror_mode": "text/x-kotlin",
   "nbconvert_exporter": ""
  }
 },
 "nbformat": 4,
 "nbformat_minor": 0
}
